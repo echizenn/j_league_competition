{
 "cells": [
  {
   "cell_type": "code",
   "execution_count": 1,
   "metadata": {
    "collapsed": true
   },
   "outputs": [],
   "source": [
    "import pandas as pd\n",
    "df_1 = pd.read_csv('train.csv')\n",
    "df_2 = pd.read_csv('train_add.csv')\n",
    "df_test_1 = pd.read_csv('test.csv')\n",
    "df_test_2 = pd.read_csv('2014_add.csv')\n",
    "df_stadium = pd.read_csv('stadium.csv')\n",
    "df_condition_1 = pd.read_csv('condition.csv')\n",
    "df_condition_2 = pd.read_csv('condition_add.csv')         #ファイルの読み込み"
   ]
  },
  {
   "cell_type": "code",
   "execution_count": 2,
   "metadata": {
    "collapsed": true
   },
   "outputs": [],
   "source": [
    "df = pd.concat([df_1, df_2],axis=0)\n",
    "df_test = pd.concat([df_test_1, df_test_2], axis=0)       #追加されてる部分を結合\n",
    "df_all = pd.concat([df, df_test], axis=0)                 #ダミー変数を合わせるために、testとtrainを結合"
   ]
  },
  {
   "cell_type": "code",
   "execution_count": 3,
   "metadata": {},
   "outputs": [
    {
     "data": {
      "text/plain": [
       "0    第１節第１日\n",
       "Name: match, dtype: object"
      ]
     },
     "execution_count": 3,
     "metadata": {},
     "output_type": "execute_result"
    }
   ],
   "source": [
    "df['match'].head(1)"
   ]
  },
  {
   "cell_type": "code",
   "execution_count": 4,
   "metadata": {
    "collapsed": true
   },
   "outputs": [],
   "source": [
    "stage_mapping = {'Ｊ１':1, 'Ｊ２':2}\n",
    "home_dummy = pd.get_dummies(df_all['home'])\n",
    "away_dummy = pd.get_dummies(df_all['away'])\n",
    "df_all['stage'] = df_all['stage'].map(stage_mapping)\n",
    "df_all = pd.concat([df_all, home_dummy, away_dummy], axis=1)\n",
    "df_all = df_all.drop('home', axis=1)\n",
    "df_all = df_all.drop('away', axis=1)               #home, away, j1 j2をダミー変数にする\n",
    "df_all = df_all.drop('address', axis=1)\n",
    "df_all = df_all.drop('tv', axis=1)                 #addressとtvをなくす"
   ]
  },
  {
   "cell_type": "code",
   "execution_count": 5,
   "metadata": {
    "collapsed": true
   },
   "outputs": [],
   "source": [
    "#時間も〜時開始を基準にしてダミー変数にする\n",
    "\n",
    "time_mapping = {}\n",
    "for number in range(len(df_all['time'])):\n",
    "    time_mapping[df_all['time'].iloc[number]] = df_all['time'].iloc[number][0:2]  \n",
    "\n",
    "df_all['time'] = df_all['time'].map(time_mapping)\n",
    "time_dummy = pd.get_dummies(df_all['time'])\n",
    "df_all = pd.concat([df_all, time_dummy], axis=1)\n",
    "df_all = df_all.drop('time', axis=1)"
   ]
  },
  {
   "cell_type": "code",
   "execution_count": 6,
   "metadata": {
    "collapsed": true
   },
   "outputs": [],
   "source": [
    "#ゲームを月ごとに分けてダミー変数にする\n",
    "\n",
    "month_mapping = {}\n",
    "for number in range(len(df_all['gameday'])):\n",
    "    month_mapping[df_all['gameday'].iloc[number]] = df_all['gameday'].iloc[number][0:2]\n",
    "\n",
    "df_all['gameday'] = df_all['gameday'].map(month_mapping)\n",
    "month_dummy = pd.get_dummies(df_all['gameday'])\n",
    "df_all = pd.concat([df_all, month_dummy], axis=1)\n",
    "df_all = df_all.drop('gameday', axis=1)"
   ]
  },
  {
   "cell_type": "code",
   "execution_count": 7,
   "metadata": {},
   "outputs": [
    {
     "data": {
      "text/plain": [
       "0    1\n",
       "Name: match, dtype: int64"
      ]
     },
     "execution_count": 7,
     "metadata": {},
     "output_type": "execute_result"
    }
   ],
   "source": [
    "#節の第１日目に行われるか、第２日目に行われるか（多くの場合、土曜なのか日曜なのか）\n",
    "\n",
    "day_mapping = {}\n",
    "for number in range(len(df_all['match'])):\n",
    "    if df_all['match'].iloc[number][-2:] == '１日':\n",
    "        day_mapping[df_all['match'].iloc[number]] = 1\n",
    "    else:\n",
    "        day_mapping[df_all['match'].iloc[number]] = 2\n",
    "\n",
    "df_all['match'] = df_all['match'].map(day_mapping)\n",
    "df_all['match'].head(1)"
   ]
  },
  {
   "cell_type": "code",
   "execution_count": 8,
   "metadata": {},
   "outputs": [
    {
     "data": {
      "text/html": [
       "<div>\n",
       "<style>\n",
       "    .dataframe thead tr:only-child th {\n",
       "        text-align: right;\n",
       "    }\n",
       "\n",
       "    .dataframe thead th {\n",
       "        text-align: left;\n",
       "    }\n",
       "\n",
       "    .dataframe tbody tr th {\n",
       "        vertical-align: top;\n",
       "    }\n",
       "</style>\n",
       "<table border=\"1\" class=\"dataframe\">\n",
       "  <thead>\n",
       "    <tr style=\"text-align: right;\">\n",
       "      <th></th>\n",
       "      <th>id</th>\n",
       "      <th>match</th>\n",
       "      <th>stadium</th>\n",
       "      <th>stage</th>\n",
       "      <th>y</th>\n",
       "      <th>year</th>\n",
       "      <th>アビスパ福岡</th>\n",
       "      <th>アルビレックス新潟</th>\n",
       "      <th>カターレ富山</th>\n",
       "      <th>カマタマーレ讃岐</th>\n",
       "      <th>...</th>\n",
       "      <th>03</th>\n",
       "      <th>04</th>\n",
       "      <th>05</th>\n",
       "      <th>06</th>\n",
       "      <th>07</th>\n",
       "      <th>08</th>\n",
       "      <th>09</th>\n",
       "      <th>10</th>\n",
       "      <th>11</th>\n",
       "      <th>12</th>\n",
       "    </tr>\n",
       "  </thead>\n",
       "  <tbody>\n",
       "    <tr>\n",
       "      <th>0</th>\n",
       "      <td>13994</td>\n",
       "      <td>1</td>\n",
       "      <td>ユアテックスタジアム仙台</td>\n",
       "      <td>1</td>\n",
       "      <td>18250.0</td>\n",
       "      <td>2012</td>\n",
       "      <td>0</td>\n",
       "      <td>0</td>\n",
       "      <td>0</td>\n",
       "      <td>0</td>\n",
       "      <td>...</td>\n",
       "      <td>1</td>\n",
       "      <td>0</td>\n",
       "      <td>0</td>\n",
       "      <td>0</td>\n",
       "      <td>0</td>\n",
       "      <td>0</td>\n",
       "      <td>0</td>\n",
       "      <td>0</td>\n",
       "      <td>0</td>\n",
       "      <td>0</td>\n",
       "    </tr>\n",
       "  </tbody>\n",
       "</table>\n",
       "<p>1 rows × 111 columns</p>\n",
       "</div>"
      ],
      "text/plain": [
       "      id  match       stadium  stage        y  year  アビスパ福岡  アルビレックス新潟  \\\n",
       "0  13994      1  ユアテックスタジアム仙台      1  18250.0  2012       0          0   \n",
       "\n",
       "   カターレ富山  カマタマーレ讃岐 ...  03  04  05  06  07  08  09  10  11  12  \n",
       "0       0         0 ...   1   0   0   0   0   0   0   0   0   0  \n",
       "\n",
       "[1 rows x 111 columns]"
      ]
     },
     "execution_count": 8,
     "metadata": {},
     "output_type": "execute_result"
    }
   ],
   "source": [
    "df_all.head(1)"
   ]
  },
  {
   "cell_type": "code",
   "execution_count": 9,
   "metadata": {},
   "outputs": [
    {
     "data": {
      "text/plain": [
       "id                    15822\n",
       "match                     1\n",
       "stadium        ユアテックスタジアム仙台\n",
       "stage                     1\n",
       "y                       NaN\n",
       "year                   2014\n",
       "アビスパ福岡                    0\n",
       "アルビレックス新潟                 0\n",
       "カターレ富山                    0\n",
       "カマタマーレ讃岐                  0\n",
       "ガイナーレ鳥取                   0\n",
       "ガンバ大阪                     0\n",
       "ギラヴァンツ北九州                 0\n",
       "コンサドーレ札幌                  0\n",
       "サガン鳥栖                     0\n",
       "サンフレッチェ広島                 0\n",
       "ザスパクサツ群馬                  0\n",
       "ザスパ草津                     0\n",
       "ジェフユナイテッド千葉               0\n",
       "ジュビロ磐田                    0\n",
       "セレッソ大阪                    0\n",
       "ファジアーノ岡山                  0\n",
       "ベガルタ仙台                    1\n",
       "モンテディオ山形                  0\n",
       "ロアッソ熊本                    0\n",
       "ヴァンフォーレ甲府                 0\n",
       "ヴィッセル神戸                   0\n",
       "京都サンガF.C.                 0\n",
       "名古屋グランパス                  0\n",
       "大分トリニータ                   0\n",
       "                   ...     \n",
       "横浜Ｆ・マリノス                  0\n",
       "横浜ＦＣ                      0\n",
       "水戸ホーリーホック                 0\n",
       "浦和レッズ                     0\n",
       "清水エスパルス                   0\n",
       "湘南ベルマーレ                   0\n",
       "鹿島アントラーズ                  0\n",
       "ＦＣ岐阜                      0\n",
       "ＦＣ東京                      0\n",
       "ＦＣ町田ゼルビア                  0\n",
       "Ｖ・ファーレン長崎                 0\n",
       "12                        0\n",
       "13                        0\n",
       "14                        0\n",
       "15                        0\n",
       "16                        0\n",
       "17                        0\n",
       "18                        0\n",
       "19                        1\n",
       "20                        0\n",
       "03                        0\n",
       "04                        0\n",
       "05                        0\n",
       "06                        0\n",
       "07                        0\n",
       "08                        1\n",
       "09                        0\n",
       "10                        0\n",
       "11                        0\n",
       "12                        0\n",
       "Name: 0, Length: 111, dtype: object"
      ]
     },
     "execution_count": 9,
     "metadata": {},
     "output_type": "execute_result"
    }
   ],
   "source": [
    "df_new = df_all.iloc[:len(df)]\n",
    "df_new_test = df_all.iloc[len(df):]               #trainとtestに再分割\n",
    "df_new_test.iloc[0]"
   ]
  },
  {
   "cell_type": "code",
   "execution_count": 10,
   "metadata": {
    "collapsed": true
   },
   "outputs": [],
   "source": [
    "df_stadium = df_stadium.rename(columns={'name':'stadium'})      #列名を合わせる\n",
    "df_new = pd.merge(df_new, df_stadium, on='stadium')             #mergeの時、順番変わることに注意\n",
    "df_new_test = pd.merge(df_new_test, df_stadium, on='stadium')   #スタジアム情報と試合情報をつなげる"
   ]
  },
  {
   "cell_type": "code",
   "execution_count": 11,
   "metadata": {
    "collapsed": true
   },
   "outputs": [],
   "source": [
    "df_new.drop('address', axis=1, inplace=True)\n",
    "df_new.drop('stadium', axis=1, inplace=True)\n",
    "df_new_test.drop('address', axis=1, inplace=True)\n",
    "df_new_test.drop('stadium', axis=1, inplace=True)                #スタジアム名と住所をなくす"
   ]
  },
  {
   "cell_type": "code",
   "execution_count": 12,
   "metadata": {
    "collapsed": true
   },
   "outputs": [],
   "source": [
    "df_new_X = df_new.drop('id', axis=1)\n",
    "df_new_test_X = df_new_test.drop('id', axis=1)                   #xとyにわける"
   ]
  },
  {
   "cell_type": "code",
   "execution_count": 13,
   "metadata": {
    "collapsed": true
   },
   "outputs": [],
   "source": [
    "X = df_new_X.drop('y', axis=1).values\n",
    "y = df_new_X.loc[:, ['y']].values                                #ndarray型にする"
   ]
  },
  {
   "cell_type": "code",
   "execution_count": 14,
   "metadata": {
    "collapsed": true
   },
   "outputs": [],
   "source": [
    "X_test = df_new_test_X.drop('y', axis=1).values"
   ]
  },
  {
   "cell_type": "code",
   "execution_count": 17,
   "metadata": {},
   "outputs": [
    {
     "data": {
      "text/plain": [
       "0.820187496425566"
      ]
     },
     "execution_count": 17,
     "metadata": {},
     "output_type": "execute_result"
    }
   ],
   "source": [
    "from sklearn.linear_model import LinearRegression\n",
    "lr = LinearRegression()\n",
    "from sklearn.model_selection import KFold\n",
    "kf_3 = KFold(n_splits=20, shuffle=True)\n",
    "from sklearn.model_selection import cross_val_score\n",
    "scores_3 = cross_val_score(lr, X, y, cv=kf_3)\n",
    "scores_3.mean()                                                  #線形分離した時の精度予測"
   ]
  },
  {
   "cell_type": "code",
   "execution_count": 18,
   "metadata": {},
   "outputs": [
    {
     "data": {
      "text/plain": [
       "LinearRegression(copy_X=True, fit_intercept=True, n_jobs=1, normalize=False)"
      ]
     },
     "execution_count": 18,
     "metadata": {},
     "output_type": "execute_result"
    }
   ],
   "source": [
    "from sklearn.linear_model import LinearRegression\n",
    "lr = LinearRegression()\n",
    "lr.fit(X, y)                                                     #線形分離"
   ]
  },
  {
   "cell_type": "code",
   "execution_count": 19,
   "metadata": {},
   "outputs": [
    {
     "data": {
      "text/plain": [
       "[[15822, 13850.28579711914],\n",
       " [15840, 14343.251190185547],\n",
       " [15863, 16059.820190429688],\n",
       " [15885, 18799.603912353516],\n",
       " [15903, 15636.087829589844]]"
      ]
     },
     "execution_count": 19,
     "metadata": {},
     "output_type": "execute_result"
    }
   ],
   "source": [
    "answer = []\n",
    "for number in range(len(X_test)):\n",
    "    answer.append([df_new_test['id'].iloc[number],\n",
    "                   lr.predict(X_test[number].reshape(1, -1))[0][0]])\n",
    "answer[:5]                                                       #idと予想がセットとなるリスト作成"
   ]
  },
  {
   "cell_type": "code",
   "execution_count": 20,
   "metadata": {
    "collapsed": true
   },
   "outputs": [],
   "source": [
    "df_answer = pd.DataFrame(answer)\n",
    "df_answer.to_csv('j_league_6.csv', index=False)　　　　　　　　　　　#上のリストをcsvファイルにする（これで終了）"
   ]
  },
  {
   "cell_type": "code",
   "execution_count": 43,
   "metadata": {
    "collapsed": true
   },
   "outputs": [],
   "source": [
    "#正則化も試してみる\n",
    "\n",
    "from sklearn.model_selection import train_test_split\n",
    "# ホールド・アウト法による分割\n",
    "X_train_2, X_test_2, y_train_2, y_test_2 = train_test_split(X, y, test_size=0.3)"
   ]
  },
  {
   "cell_type": "code",
   "execution_count": 44,
   "metadata": {
    "collapsed": true
   },
   "outputs": [],
   "source": [
    "# 調整したいパラメータを指定\n",
    "param_grid = {'alpha': [0.3, 0.5, 0.7]}"
   ]
  },
  {
   "cell_type": "code",
   "execution_count": 45,
   "metadata": {
    "collapsed": true
   },
   "outputs": [],
   "source": [
    "# データの分割方法を指定\n",
    "from sklearn.model_selection import KFold\n",
    "kf_3 = KFold(n_splits=20, shuffle=True)"
   ]
  },
  {
   "cell_type": "code",
   "execution_count": 46,
   "metadata": {
    "collapsed": true
   },
   "outputs": [],
   "source": [
    "# GridSearchCVのインスタンスを生成\n",
    "from sklearn.model_selection import GridSearchCV\n",
    "from sklearn.linear_model import Ridge                        # Ridge回帰のクラスを読み込み\n",
    "# (モデルのインスタンス, 試したいパラメータの値, 分割方法)\n",
    "gs_svc = GridSearchCV(Ridge(), param_grid, cv=kf_3)"
   ]
  },
  {
   "cell_type": "code",
   "execution_count": 47,
   "metadata": {},
   "outputs": [
    {
     "data": {
      "text/plain": [
       "GridSearchCV(cv=KFold(n_splits=20, random_state=None, shuffle=True),\n",
       "       error_score='raise',\n",
       "       estimator=Ridge(alpha=1.0, copy_X=True, fit_intercept=True, max_iter=None,\n",
       "   normalize=False, random_state=None, solver='auto', tol=0.001),\n",
       "       fit_params=None, iid=True, n_jobs=1,\n",
       "       param_grid={'alpha': [0.3, 0.5, 0.7]}, pre_dispatch='2*n_jobs',\n",
       "       refit=True, return_train_score='warn', scoring=None, verbose=0)"
      ]
     },
     "execution_count": 47,
     "metadata": {},
     "output_type": "execute_result"
    }
   ],
   "source": [
    "# GridSearchCVを利用した学習\n",
    "# 最適なパラメータを自動で採用した分類器となる\n",
    "gs_svc.fit(X_train_2, y_train_2)"
   ]
  },
  {
   "cell_type": "code",
   "execution_count": 48,
   "metadata": {},
   "outputs": [
    {
     "data": {
      "text/plain": [
       "{'alpha': 0.5}"
      ]
     },
     "execution_count": 48,
     "metadata": {},
     "output_type": "execute_result"
    }
   ],
   "source": [
    "# test精度の平均が最も高かった組み合わせを出力\n",
    "gs_svc.best_params_"
   ]
  },
  {
   "cell_type": "code",
   "execution_count": 49,
   "metadata": {},
   "outputs": [
    {
     "data": {
      "text/plain": [
       "0.8216234408879675"
      ]
     },
     "execution_count": 49,
     "metadata": {},
     "output_type": "execute_result"
    }
   ],
   "source": [
    "# そのときのtest精度の平均を出力\n",
    "gs_svc.best_score_"
   ]
  },
  {
   "cell_type": "code",
   "execution_count": 50,
   "metadata": {},
   "outputs": [
    {
     "data": {
      "text/plain": [
       "0.783675329659795"
      ]
     },
     "execution_count": 50,
     "metadata": {},
     "output_type": "execute_result"
    }
   ],
   "source": [
    "# ホールド・アウト法によるtest精度を出力\n",
    "gs_svc.score(X_test_2, y_test_2)"
   ]
  },
  {
   "cell_type": "code",
   "execution_count": 51,
   "metadata": {
    "collapsed": true
   },
   "outputs": [],
   "source": [
    "#微妙だったのでやめる"
   ]
  }
 ],
 "metadata": {
  "kernelspec": {
   "display_name": "Python 3",
   "language": "python",
   "name": "python3"
  },
  "language_info": {
   "codemirror_mode": {
    "name": "ipython",
    "version": 3
   },
   "file_extension": ".py",
   "mimetype": "text/x-python",
   "name": "python",
   "nbconvert_exporter": "python",
   "pygments_lexer": "ipython3",
   "version": "3.6.3"
  }
 },
 "nbformat": 4,
 "nbformat_minor": 2
}
